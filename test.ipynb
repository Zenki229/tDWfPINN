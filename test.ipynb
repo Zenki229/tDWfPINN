{
 "cells": [
  {
   "cell_type": "code",
   "execution_count": 2,
   "metadata": {},
   "outputs": [],
   "source": [
    "from libs import *"
   ]
  },
  {
   "cell_type": "code",
   "execution_count": 3,
   "metadata": {},
   "outputs": [],
   "source": [
    "from pymittagleffler import *"
   ]
  },
  {
   "cell_type": "code",
   "execution_count": 198,
   "metadata": {},
   "outputs": [],
   "source": [
    "class Solution:\n",
    "    def __init__(self, alpha, lam, k):\n",
    "        self.al = alpha\n",
    "        self.lam = lam\n",
    "        self.k = k\n",
    "    def mitlef (self, al, bt, t):\n",
    "        # t is np.ndarray  \n",
    "        return np.real(mittag_leffler(t, al, bt))\n",
    "    def val(self, points):\n",
    "        t = points[..., 0:1] #N*1 \n",
    "        x = points[..., 1:2] #N*1\n",
    "        part1 = np.sin(self.k*np.pi*x) #N*1 \n",
    "        part2 = self.mitlef(self.al, 1.0, -self.lam*np.power(t,self.al)) - 0.5*t*self.mitlef(self.al, 2.0, -self.lam*np.power(t,self.al)) #N*1\n",
    "        return part1*part2 #N*1\n",
    "    def dt(self, points):\n",
    "        t = points[..., 0:1] #N*1 \n",
    "        x = points[..., 1:2] #N*1\n",
    "        part1 = np.sin(self.k*np.pi*x) #N*1 \n",
    "        part2 = (-self.lam)*np.power(t,self.al-1)*self.mitlef(self.al, self.al, -self.lam*np.power(t,self.al)) - 0.5*self.mitlef(self.al, 1, -self.lam*np.power(t,self.al)) #N*1\n",
    "        return part1*part2 #N*1\n",
    "    def dtal(self, points, method, nums):\n",
    "        if method=='MC-I':\n",
    "            lens = len(points)\n",
    "            al=self.al\n",
    "            eps = 1e-10\n",
    "            coeff = sp.gamma(2-al)\n",
    "            taus = beta.rvs(2-al,1,size=nums)\n",
    "            dt = self.dt(points)\n",
    "            # compute u'(0,x)\n",
    "            t0 = np.concatenate((np.zeros_like(points[:, 0:1]), points[:,1:]), axis=1)\n",
    "            dt0 = self.dt(t0)\n",
    "            # compute u'(t-t tau,x) \n",
    "            t = points[:, 0:1] #N*1\n",
    "            taus = taus.reshape(-1,1) #M*1\n",
    "            x = points[:, 1:2] #N*1\n",
    "            t_tau = t.T * taus.reshape(-1,1) #M*N \n",
    "            t_t_tau = points[:, 0]-t_tau #M*N \n",
    "            t_tau_max = np.maximum(t_tau, eps) #M*N\n",
    "            new_x = np.tile(x.reshape(1,-1), (nums,1))#M*N\n",
    "            new_points = np.stack((t_t_tau,new_x), axis=2) #M*N*2 \n",
    "            dttau = self.dt(new_points).reshape(nums,lens, 1) #M*N*1\n",
    "            part1 = np.mean((dt-dttau)/t_tau_max.reshape(nums,lens,1), axis=0)# N*1\n",
    "            part1 = part1*(al-1.0)/(2.0-al)*np.power(points[:, 0:1], 2-al) \n",
    "            part2 = (dt-dt0)*np.power(points[:, 0:1],1-al) \n",
    "            dtal = (part1+part2)/coeff #N*1 \n",
    "            return dtal\n",
    "        if method=='GJ-I':\n",
    "            lens = len(points)\n",
    "            quad_t, quad_wt = roots_jacobi(nums, 0, 1-self.al)\n",
    "            self.quad_t = (quad_t + 1) / 2\n",
    "            self.quad_w = quad_wt * (1 / 2) ** (2-self.al)\n",
    "            al=self.al\n",
    "            coeff = sp.gamma(2-al)\n",
    "            taus = self.quad_t \n",
    "            quad_w = self.quad_w.reshape(-1,1,1)#M*1*1\n",
    "            # quad_w = np.tile(quad_w, (1,lens,1)) #M*N*1\n",
    "            dt = self.dt(points)\n",
    "            # compute u'(0,x)\n",
    "            t0 = np.concatenate((np.zeros_like(points[:, 0:1]), points[:,1:]), axis=1)\n",
    "            dt0 = self.dt(t0)\n",
    "            # compute u'(t-t tau,x) \n",
    "            t = points[:, 0:1] #N*1\n",
    "            taus = taus.reshape(-1,1) #M*1\n",
    "            x = points[:, 1:2] #N*1\n",
    "            t_tau = t.T * taus.reshape(-1,1) #M*N \n",
    "            t_t_tau = points[:, 0]-t_tau #M*N \n",
    "            new_x = np.tile(x.reshape(1,-1), (nums,1))#M*N\n",
    "            new_points = np.stack((t_t_tau,new_x), axis=2) #M*N*2 \n",
    "            dttau = self.dt(new_points).reshape(nums,lens, 1) #M*N*1\n",
    "            part1 =  np.sum(quad_w*(dt-dttau)/t_tau.reshape(nums,lens,1), axis=0)\n",
    "            part1 = part1*(al-1.0)*np.power(points[:, 0:1], 2-al) \n",
    "            part2 = (dt-dt0)*np.power(points[:, 0:1],1-al) \n",
    "            dtal = (part1+part2)/coeff #N*1 \n",
    "            return dtal"
   ]
  },
  {
   "cell_type": "code",
   "execution_count": 27,
   "metadata": {},
   "outputs": [],
   "source": [
    "tlim =(0,2)\n",
    "xlim=[[0,1]]\n",
    "dev = torch.device('cuda:0' if torch.cuda.is_available() else 'cpu')"
   ]
  },
  {
   "cell_type": "code",
   "execution_count": 76,
   "metadata": {},
   "outputs": [],
   "source": [
    "batch = {'in':3,'bd':10,'init':10}"
   ]
  },
  {
   "cell_type": "code",
   "execution_count": 77,
   "metadata": {},
   "outputs": [],
   "source": [
    "sampler = iter(TimeSpaceEasySampler(axeslim=xlim, tlim=tlim, dev=dev, batch=batch))"
   ]
  },
  {
   "cell_type": "code",
   "execution_count": 78,
   "metadata": {},
   "outputs": [],
   "source": [
    "points = sampler.sample()\n",
    "points = points['in'].detach().cpu().numpy()"
   ]
  },
  {
   "cell_type": "code",
   "execution_count": 203,
   "metadata": {},
   "outputs": [],
   "source": [
    "u = Solution(alpha=1.25, lam=1, k=1)"
   ]
  },
  {
   "cell_type": "code",
   "execution_count": 204,
   "metadata": {},
   "outputs": [],
   "source": [
    "dtal_true = -u.lam*u.val(points)"
   ]
  },
  {
   "cell_type": "code",
   "execution_count": 147,
   "metadata": {},
   "outputs": [],
   "source": [
    "dtal1 = u.dtal(points, method='MC-I', nums=1000)"
   ]
  },
  {
   "cell_type": "code",
   "execution_count": 205,
   "metadata": {},
   "outputs": [],
   "source": [
    "dtal2 = u.dtal(points,method='GJ-I', nums=10)"
   ]
  },
  {
   "cell_type": "code",
   "execution_count": 206,
   "metadata": {},
   "outputs": [
    {
     "data": {
      "text/plain": [
       "array([[-7.95900285e-04],\n",
       "       [-6.67386747e-05],\n",
       "       [ 2.30239298e-04]])"
      ]
     },
     "execution_count": 206,
     "metadata": {},
     "output_type": "execute_result"
    }
   ],
   "source": [
    "(dtal2-dtal_true)/dtal_true"
   ]
  }
 ],
 "metadata": {
  "kernelspec": {
   "display_name": "sciml",
   "language": "python",
   "name": "python3"
  },
  "language_info": {
   "codemirror_mode": {
    "name": "ipython",
    "version": 3
   },
   "file_extension": ".py",
   "mimetype": "text/x-python",
   "name": "python",
   "nbconvert_exporter": "python",
   "pygments_lexer": "ipython3",
   "version": "3.11.11"
  }
 },
 "nbformat": 4,
 "nbformat_minor": 2
}
